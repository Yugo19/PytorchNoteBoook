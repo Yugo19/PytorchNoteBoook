{
 "cells": [
  {
   "cell_type": "code",
   "execution_count": 9,
   "metadata": {},
   "outputs": [],
   "source": [
    "import torch"
   ]
  },
  {
   "cell_type": "code",
   "execution_count": 10,
   "metadata": {},
   "outputs": [],
   "source": [
    "X = torch.tensor([1, 2, 3, 4], dtype=torch.float32)\n",
    "Y = torch.tensor([2, 4, 6, 8], dtype=torch.float32)"
   ]
  },
  {
   "cell_type": "code",
   "execution_count": 11,
   "metadata": {},
   "outputs": [],
   "source": [
    "W = torch.tensor(0.0, dtype=torch.float32, requires_grad=True)"
   ]
  },
  {
   "cell_type": "code",
   "execution_count": 12,
   "metadata": {},
   "outputs": [],
   "source": [
    "def forward(x):\n",
    "    return W*X"
   ]
  },
  {
   "cell_type": "code",
   "execution_count": 13,
   "metadata": {},
   "outputs": [],
   "source": [
    "def loss(y, y_predicted):\n",
    "    return ((y_predicted - y)**2).mean()"
   ]
  },
  {
   "cell_type": "code",
   "execution_count": 17,
   "metadata": {},
   "outputs": [],
   "source": [
    "learning_rate = 0.01\n",
    "n_iterations = 40"
   ]
  },
  {
   "cell_type": "code",
   "execution_count": 18,
   "metadata": {},
   "outputs": [
    {
     "name": "stdout",
     "output_type": "stream",
     "text": [
      "epoch 1: W = 1.934 loss = 0.04506890\n",
      "epoch 3: W = 1.952 loss = 0.02352631\n",
      "epoch 5: W = 1.966 loss = 0.01228084\n",
      "epoch 7: W = 1.975 loss = 0.00641066\n",
      "epoch 9: W = 1.982 loss = 0.00334642\n",
      "epoch 11: W = 1.987 loss = 0.00174685\n",
      "epoch 13: W = 1.991 loss = 0.00091188\n",
      "epoch 15: W = 1.993 loss = 0.00047601\n",
      "epoch 17: W = 1.995 loss = 0.00024848\n",
      "epoch 19: W = 1.996 loss = 0.00012971\n",
      "epoch 21: W = 1.997 loss = 0.00006770\n",
      "epoch 23: W = 1.998 loss = 0.00003534\n",
      "epoch 25: W = 1.999 loss = 0.00001845\n",
      "epoch 27: W = 1.999 loss = 0.00000963\n",
      "epoch 29: W = 1.999 loss = 0.00000503\n",
      "epoch 31: W = 1.999 loss = 0.00000262\n",
      "epoch 33: W = 2.000 loss = 0.00000137\n",
      "epoch 35: W = 2.000 loss = 0.00000071\n",
      "epoch 37: W = 2.000 loss = 0.00000037\n",
      "epoch 39: W = 2.000 loss = 0.00000019\n"
     ]
    }
   ],
   "source": [
    "for epoch in range(n_iterations):\n",
    "    y_pred = forward(X)\n",
    "\n",
    "    l = loss(Y, y_pred)\n",
    "\n",
    "    l.backward()\n",
    "\n",
    "    with torch.no_grad():\n",
    "        W -= learning_rate * W.grad\n",
    "    \n",
    "    W.grad.zero_()\n",
    "\n",
    "    if epoch % 2 == 0:\n",
    "        print(f'epoch {epoch + 1}: W = {W:.3f} loss = {l:.8f}')"
   ]
  },
  {
   "cell_type": "code",
   "execution_count": 24,
   "metadata": {},
   "outputs": [
    {
     "name": "stdout",
     "output_type": "stream",
     "text": [
      "Prediction after training: f(5) = tensor([1.9999, 3.9998, 5.9997, 7.9995], grad_fn=<MulBackward0>)\n"
     ]
    }
   ],
   "source": [
    "print(f'Prediction after training: f(5) = {forward(5)}')"
   ]
  }
 ],
 "metadata": {
  "kernelspec": {
   "display_name": "Python 3.9.12 ('base')",
   "language": "python",
   "name": "python3"
  },
  "language_info": {
   "codemirror_mode": {
    "name": "ipython",
    "version": 3
   },
   "file_extension": ".py",
   "mimetype": "text/x-python",
   "name": "python",
   "nbconvert_exporter": "python",
   "pygments_lexer": "ipython3",
   "version": "3.9.12"
  },
  "orig_nbformat": 4,
  "vscode": {
   "interpreter": {
    "hash": "2ee4e78e375ce87483e1695e33615481c2908b7ea7fe840a873f99ff05403af4"
   }
  }
 },
 "nbformat": 4,
 "nbformat_minor": 2
}
