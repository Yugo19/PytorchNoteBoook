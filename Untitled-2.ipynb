{
 "cells": [
  {
   "cell_type": "code",
   "execution_count": 1,
   "metadata": {},
   "outputs": [],
   "source": [
    "import numpy as np"
   ]
  },
  {
   "cell_type": "code",
   "execution_count": 2,
   "metadata": {},
   "outputs": [],
   "source": [
    "X = np.array([1, 2, 3, 4], dtype=np.float32)\n",
    "Y = np.array([2, 4, 6, 8], dtype=np.float32)"
   ]
  },
  {
   "cell_type": "code",
   "execution_count": 3,
   "metadata": {},
   "outputs": [],
   "source": [
    "W = 0.0"
   ]
  },
  {
   "cell_type": "code",
   "execution_count": 4,
   "metadata": {},
   "outputs": [],
   "source": [
    "def forward(X):\n",
    "    return W*X"
   ]
  },
  {
   "cell_type": "code",
   "execution_count": 5,
   "metadata": {},
   "outputs": [],
   "source": [
    "def loss(y, y_predicted):\n",
    "    return ((y_predicted - y)**2).mean()"
   ]
  },
  {
   "cell_type": "code",
   "execution_count": 6,
   "metadata": {},
   "outputs": [],
   "source": [
    "def gradient(x,y, y_predicted):\n",
    "    return np.dot(2*x, y_predicted-y).mean()"
   ]
  },
  {
   "cell_type": "code",
   "execution_count": 7,
   "metadata": {},
   "outputs": [
    {
     "name": "stdout",
     "output_type": "stream",
     "text": [
      "Prediction before traning:f(5) = 0.0:.3f\n"
     ]
    }
   ],
   "source": [
    "print(f'Prediction before traning:f(5) = {forward(5)}:.3f')"
   ]
  },
  {
   "cell_type": "code",
   "execution_count": 12,
   "metadata": {},
   "outputs": [],
   "source": [
    "learning_rate = 0.01\n",
    "n_iteration = 20"
   ]
  },
  {
   "cell_type": "code",
   "execution_count": 13,
   "metadata": {},
   "outputs": [
    {
     "name": "stdout",
     "output_type": "stream",
     "text": [
      "epoch 1: W = 2.000 loss = 0.00000033\n",
      "epoch 3: W = 2.000 loss = 0.00000001\n",
      "epoch 5: W = 2.000 loss = 0.00000000\n",
      "epoch 7: W = 2.000 loss = 0.00000000\n",
      "epoch 9: W = 2.000 loss = 0.00000000\n",
      "epoch 11: W = 2.000 loss = 0.00000000\n",
      "epoch 13: W = 2.000 loss = 0.00000000\n",
      "epoch 15: W = 2.000 loss = 0.00000000\n",
      "epoch 17: W = 2.000 loss = 0.00000000\n",
      "epoch 19: W = 2.000 loss = 0.00000000\n"
     ]
    }
   ],
   "source": [
    "for epoch in range(n_iteration):\n",
    "\n",
    "    y_pred = forward(X)\n",
    "\n",
    "    l = loss(Y, y_pred)\n",
    "\n",
    "    dw = gradient(X, Y, y_pred)\n",
    "\n",
    "    W-= learning_rate * dw\n",
    "\n",
    "    if epoch % 2 == 0:\n",
    "        print(f'epoch {epoch + 1}: W = {W:.3f} loss = {l:.8f}')"
   ]
  },
  {
   "cell_type": "code",
   "execution_count": 14,
   "metadata": {},
   "outputs": [
    {
     "name": "stdout",
     "output_type": "stream",
     "text": [
      "Prediction after training: f(5) = 9.99999977350235\n"
     ]
    }
   ],
   "source": [
    "print(f'Prediction after training: f(5) = {forward(5)}')"
   ]
  }
 ],
 "metadata": {
  "kernelspec": {
   "display_name": "Python 3.9.12 ('base')",
   "language": "python",
   "name": "python3"
  },
  "language_info": {
   "codemirror_mode": {
    "name": "ipython",
    "version": 3
   },
   "file_extension": ".py",
   "mimetype": "text/x-python",
   "name": "python",
   "nbconvert_exporter": "python",
   "pygments_lexer": "ipython3",
   "version": "3.9.12"
  },
  "orig_nbformat": 4,
  "vscode": {
   "interpreter": {
    "hash": "2ee4e78e375ce87483e1695e33615481c2908b7ea7fe840a873f99ff05403af4"
   }
  }
 },
 "nbformat": 4,
 "nbformat_minor": 2
}
